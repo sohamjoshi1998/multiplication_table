{
 "cells": [
  {
   "cell_type": "markdown",
   "id": "47e022fd",
   "metadata": {},
   "source": [
    "### Project 3 -\n",
    "\n",
    "#### MULTIPLICATION TABLES"
   ]
  },
  {
   "cell_type": "code",
   "execution_count": 12,
   "id": "97721162",
   "metadata": {},
   "outputs": [
    {
     "name": "stdout",
     "output_type": "stream",
     "text": [
      "Enter number\n",
      "7\n",
      "\n",
      "\n",
      "Multiplication Table of  7\n",
      "\n",
      "\n",
      "###############\n",
      "7  *  1  =  7\n",
      "7  *  2  =  14\n",
      "7  *  3  =  21\n",
      "7  *  4  =  28\n",
      "7  *  5  =  35\n",
      "7  *  6  =  42\n",
      "7  *  7  =  49\n",
      "7  *  8  =  56\n",
      "7  *  9  =  63\n",
      "7  *  10  =  70\n",
      "7  *  11  =  77\n",
      "7  *  12  =  84\n",
      "###############\n",
      "Do you wish to enter another number? Y/N\n",
      "Y\n",
      "Enter number\n",
      "5\n",
      "\n",
      "\n",
      "Multiplication Table of  5\n",
      "\n",
      "\n",
      "###############\n",
      "5  *  1  =  5\n",
      "5  *  2  =  10\n",
      "5  *  3  =  15\n",
      "5  *  4  =  20\n",
      "5  *  5  =  25\n",
      "5  *  6  =  30\n",
      "5  *  7  =  35\n",
      "5  *  8  =  40\n",
      "5  *  9  =  45\n",
      "5  *  10  =  50\n",
      "5  *  11  =  55\n",
      "5  *  12  =  60\n",
      "###############\n",
      "Do you wish to enter another number? Y/N\n",
      "Y\n",
      "Enter number\n",
      "8\n",
      "\n",
      "\n",
      "Multiplication Table of  8\n",
      "\n",
      "\n",
      "###############\n",
      "8  *  1  =  8\n",
      "8  *  2  =  16\n",
      "8  *  3  =  24\n",
      "8  *  4  =  32\n",
      "8  *  5  =  40\n",
      "8  *  6  =  48\n",
      "8  *  7  =  56\n",
      "8  *  8  =  64\n",
      "8  *  9  =  72\n",
      "8  *  10  =  80\n",
      "8  *  11  =  88\n",
      "8  *  12  =  96\n",
      "###############\n",
      "Do you wish to enter another number? Y/N\n",
      "N\n"
     ]
    }
   ],
   "source": [
    "loop=\"Y\"\n",
    "while loop==\"Y\":\n",
    "    user_input = int(input(\"Enter number\\n\"))\n",
    "    print(\"\\n\")\n",
    "    print(\"Multiplication Table of \",user_input)\n",
    "    print(\"\\n\")\n",
    "    print(\"#\"*15)\n",
    "    i=1\n",
    "    while i<=12:\n",
    "        print(user_input, \" * \", i, \" = \", user_input*i)\n",
    "        i=i+1\n",
    "    print(\"#\"*15)\n",
    "    loop=input(\"Do you wish to enter another number? Y/N\\n\")"
   ]
  }
 ],
 "metadata": {
  "kernelspec": {
   "display_name": "Python 3",
   "language": "python",
   "name": "python3"
  },
  "language_info": {
   "codemirror_mode": {
    "name": "ipython",
    "version": 3
   },
   "file_extension": ".py",
   "mimetype": "text/x-python",
   "name": "python",
   "nbconvert_exporter": "python",
   "pygments_lexer": "ipython3",
   "version": "3.8.8"
  }
 },
 "nbformat": 4,
 "nbformat_minor": 5
}
